{
 "cells": [
  {
   "cell_type": "markdown",
   "id": "89673045",
   "metadata": {},
   "source": [
    "# Tutorial for coronagraphy simulator tool\n",
    "\n",
    "## Setup\n",
    "\n",
    "- Need to clone pc branch of https://github.com/wfirst-cgi/emccd_detect\n",
    "- Do pip install -e .\n",
    "\n",
    "## Import some libraries"
   ]
  },
  {
   "cell_type": "code",
   "execution_count": 1,
   "id": "b3b863b5",
   "metadata": {},
   "outputs": [],
   "source": [
    "import numpy as np\n",
    "\n",
    "import coronagraph\n",
    "import detector\n",
    "import util"
   ]
  },
  {
   "cell_type": "markdown",
   "id": "951ea783",
   "metadata": {},
   "source": [
    "## Set the parameters"
   ]
  },
  {
   "cell_type": "code",
   "execution_count": 2,
   "id": "0e227d85",
   "metadata": {},
   "outputs": [],
   "source": [
    "cdir = 'coronagraphs/LUVOIR-A_APLC_18bw_medFPM_2021-05-07_Dyn10pm-nostaticabb/'\n",
    "scene = 'scenes/10pc/-1-HIP_-TYC_SUN-mv_4.83-L_1.00-d_10.00-Teff_5778.00_inc00_zodi0001.fits'\n",
    "#scene = 'scenes/10pc/-1-HIP_-TYC_SUN-mv_4.83-L_1.00-d_10.00-Teff_5778.00_inc60_zodi0100.fits'\n",
    "diam = 12. # m\n",
    "time = np.array([0.21304347826086958-0.1, 0.21304347826086958, 0.21304347826086958+0.1]) # yr\n",
    "wave = np.array([0.5]) # micron\n",
    "odir = 'tutorial/'\n",
    "iwa = 8.5 # lambda/D, for LUV-A\n",
    "owa = 26. # lambda/D, for LUV-A\n",
    "#iwa = 2.5 # lambda/D, for LUV-B\n",
    "#owa = 13. # lambda/D, for LUV-B\n",
    "name = scene[12:-5]\n",
    "papt = np.array([-49.77782752, 0.85732431]) # pix\n",
    "rapt = 0.8 # lambda/D\n",
    "fdir = 'tutorial/'\n",
    "overwrite = True\n",
    "Nobs = 100"
   ]
  },
  {
   "cell_type": "markdown",
   "id": "5f357c78",
   "metadata": {},
   "source": [
    "## Simulate coronagraph images of science and reference target"
   ]
  },
  {
   "cell_type": "code",
   "execution_count": 3,
   "id": "040fa759",
   "metadata": {
    "scrolled": false
   },
   "outputs": [
    {
     "name": "stdout",
     "output_type": "stream",
     "text": [
      "Initializing coronagraph...\n",
      "   Radially symmetric response --> rotating PSFs (1dx)\n",
      "   Fractional obscuration = 0.175\n",
      "   Fractional bandpass = 0.180\n",
      "   Instrument throughput = 1.000\n",
      "   Coronagraph throughput = 0.318\n",
      "Loading scene...\n",
      "Simulating science...\n",
      "Adding star...\n",
      "Adding planets...\n",
      "   Finished 7 of 7 planets\n",
      "Adding disk...\n",
      "   Loaded data cube of spatially dependent PSFs\n",
      "   Finished 0 of 3 times, 0 of 1 wavelengths   14.203 s\n",
      "   Finished 1 of 3 times, 0 of 1 wavelengths   2.309 s\n",
      "   Finished 2 of 3 times, 0 of 1 wavelengths   0.611 s\n",
      "   Finished 3 of 3 times, 1 of 1 wavelengths\n",
      "Simulating reference...\n",
      "Adding star...\n"
     ]
    }
   ],
   "source": [
    "coro = coronagraph.coro(cdir)\n",
    "\n",
    "name = coro.load_scene(scene,\n",
    "                       diam, # m\n",
    "                       time, # yr\n",
    "                       wave, # micron\n",
    "                       odir)\n",
    "coro.set_pang(0.) # deg\n",
    "\n",
    "sci = coro.sim_sci(add_star=True,\n",
    "                   add_plan=True,\n",
    "                   add_disk=True,\n",
    "                   tag='sci',\n",
    "                   save_all=True)\n",
    "ref = coro.sim_ref(add_star=True,\n",
    "                   add_plan=False,\n",
    "                   add_disk=False,\n",
    "                   tag='ref',\n",
    "                   save_all=True)"
   ]
  },
  {
   "cell_type": "markdown",
   "id": "82e11e85",
   "metadata": {},
   "source": [
    "## Convert noiseless coronagraph images into detector images\n",
    "\n",
    "Here with photon noise, but detector noise can also be included with the det.dnimgs function."
   ]
  },
  {
   "cell_type": "code",
   "execution_count": 4,
   "id": "1cefcb82",
   "metadata": {},
   "outputs": [
    {
     "name": "stdout",
     "output_type": "stream",
     "text": [
      "Initializing detector...\n",
      "Computing detector images...\n",
      "Computing detector images...\n",
      "Computing detector images...\n",
      "Computing detector images...\n",
      "Computing detector images...\n",
      "Computing integration time...\n",
      "   CR star = 2.004e-01 ph/s\n",
      "   CR plan = 3.364e-01 ph/s\n",
      "   CR disk = 5.415e-02 ph/s\n",
      "   CR detn = 0.000e+00 ph/s\n",
      "   CR nois = 8.454e-01 ph/s\n",
      "Computing photon noise images...\n",
      "   Frame time = 0.350 s, integration time = 366 s --> 1047 frames\n",
      "Computing photon noise images...\n",
      "   Frame time = 2.440 s, integration time = 366 s --> 150 frames\n"
     ]
    }
   ],
   "source": [
    "det = detector.det(iwa=iwa,\n",
    "                   owa=owa)\n",
    "\n",
    "det.nlimgs(name,\n",
    "           odir,\n",
    "           tags=['sci_imgs', 'sci_star', 'sci_plan', 'sci_disk', 'ref_imgs'],\n",
    "           overwrite=overwrite)\n",
    "\n",
    "tint, cr_star, cr_plan, cr_disk, cr_detn = det.tint(name,\n",
    "                                                    odir,\n",
    "                                                    tag='sci_imgs',\n",
    "                                                    papt=papt, # pix\n",
    "                                                    rapt=rapt, # lambda/D\n",
    "                                                    time_comp=time[1], # yr\n",
    "                                                    wave_comp=wave[0], # micron\n",
    "                                                    snr_targ=7.,\n",
    "                                                    path_star=odir+name+'/DET/sci_star.fits',\n",
    "                                                    path_plan=odir+name+'/DET/sci_plan.fits',\n",
    "                                                    path_disk=odir+name+'/DET/sci_disk.fits',\n",
    "                                                    detn=False,\n",
    "                                                    fdir=fdir)\n",
    "\n",
    "det.pnimgs(name,\n",
    "           odir,\n",
    "           tags=['sci_imgs', 'ref_imgs'],\n",
    "           tint=tint, # s\n",
    "           time_comp=time[1], # yr\n",
    "           wave_comp=wave[0], # micron\n",
    "           Nobs=Nobs,\n",
    "           overwrite=overwrite)"
   ]
  }
 ],
 "metadata": {
  "kernelspec": {
   "display_name": "Python 3 (ipykernel)",
   "language": "python",
   "name": "python3"
  },
  "language_info": {
   "codemirror_mode": {
    "name": "ipython",
    "version": 3
   },
   "file_extension": ".py",
   "mimetype": "text/x-python",
   "name": "python",
   "nbconvert_exporter": "python",
   "pygments_lexer": "ipython3",
   "version": "3.9.2"
  }
 },
 "nbformat": 4,
 "nbformat_minor": 5
}
